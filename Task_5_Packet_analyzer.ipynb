{
  "nbformat": 4,
  "nbformat_minor": 0,
  "metadata": {
    "colab": {
      "provenance": [],
      "authorship_tag": "ABX9TyM6RqioF5l+3jJRYSV3YNl/",
      "include_colab_link": true
    },
    "kernelspec": {
      "name": "python3",
      "display_name": "Python 3"
    },
    "language_info": {
      "name": "python"
    }
  },
  "cells": [
    {
      "cell_type": "markdown",
      "metadata": {
        "id": "view-in-github",
        "colab_type": "text"
      },
      "source": [
        "<a href=\"https://colab.research.google.com/github/bharathwajks26/Prodigy_Infotech/blob/main/Task_5_Packet_analyzer.ipynb\" target=\"_parent\"><img src=\"https://colab.research.google.com/assets/colab-badge.svg\" alt=\"Open In Colab\"/></a>"
      ]
    },
    {
      "cell_type": "code",
      "execution_count": null,
      "metadata": {
        "id": "O96R5EEDQwLp"
      },
      "outputs": [],
      "source": [
        "from scapy.all import sniff, IP, TCP, UDP, Raw\n",
        "\n",
        "def packet_callback(packet):\n",
        "    \"\"\"Callback function to process each captured packet.\"\"\"\n",
        "    if IP in packet:\n",
        "        ip_src = packet[IP].src\n",
        "        ip_dst = packet[IP].dst\n",
        "        protocol = packet[IP].proto\n",
        "\n",
        "        # Display information about the packet\n",
        "        print(f\"Source IP: {ip_src}\")\n",
        "        print(f\"Destination IP: {ip_dst}\")\n",
        "        print(f\"Protocol: {protocol}\")\n",
        "\n",
        "        # Display the payload if available\n",
        "        if Raw in packet:\n",
        "            payload = packet[Raw].load\n",
        "            print(f\"Payload: {payload}\")\n",
        "        else:\n",
        "            print(\"Payload: None\")\n",
        "\n",
        "        print(\"-\" * 40)\n",
        "\n",
        "def start_sniffing(interface=None):\n",
        "    \"\"\"Start sniffing packets on the specified network interface.\"\"\"\n",
        "    print(\"Starting packet sniffing...\")\n",
        "    sniff(iface=interface, prn=packet_callback, store=0)\n",
        "\n",
        "if __name__ == \"__main__\":\n",
        "    # Optional: specify the network interface, e.g., 'eth0' or 'wlan0'\n",
        "    network_interface = None\n",
        "    start_sniffing(network_interface)\n"
      ]
    }
  ]
}