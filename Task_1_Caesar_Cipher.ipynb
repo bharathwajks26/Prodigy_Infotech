{
  "nbformat": 4,
  "nbformat_minor": 0,
  "metadata": {
    "colab": {
      "provenance": [],
      "authorship_tag": "ABX9TyNXhhdL2wL3gRSond7BmoWT",
      "include_colab_link": true
    },
    "kernelspec": {
      "name": "python3",
      "display_name": "Python 3"
    },
    "language_info": {
      "name": "python"
    }
  },
  "cells": [
    {
      "cell_type": "markdown",
      "metadata": {
        "id": "view-in-github",
        "colab_type": "text"
      },
      "source": [
        "<a href=\"https://colab.research.google.com/github/bharathwajks26/Prodigy_Infotech/blob/main/Task_1_Caesar_Cipher.ipynb\" target=\"_parent\"><img src=\"https://colab.research.google.com/assets/colab-badge.svg\" alt=\"Open In Colab\"/></a>"
      ]
    },
    {
      "cell_type": "code",
      "execution_count": null,
      "metadata": {
        "colab": {
          "base_uri": "https://localhost:8080/"
        },
        "id": "vFUfqRMQQfMK",
        "outputId": "67815e88-213e-462b-f4cd-f9c1f0d2d7c4"
      },
      "outputs": [
        {
          "output_type": "stream",
          "name": "stdout",
          "text": [
            "Enter the Text: Hi Prodigy\n",
            "Enter the shift value (integer): 12\n",
            "Encrypted text: Tu Bdapusk\n"
          ]
        }
      ],
      "source": [
        "def caesar_cipher(text, shift):\n",
        "\n",
        "    if not isinstance(shift, int):\n",
        "        raise ValueError(\"Shift must be an integer.\")\n",
        "\n",
        "    result = \"\"\n",
        "\n",
        "    for char in text:\n",
        "\n",
        "        if char.isupper():\n",
        "            result += chr((ord(char) + shift - 65) % 26 + 65)\n",
        "        elif char.islower():\n",
        "            result += chr((ord(char) + shift - 97) % 26 + 97)\n",
        "        else:\n",
        "            result += char\n",
        "\n",
        "    return result\n",
        "\n",
        "try:\n",
        "    text = input(\"Enter the Text: \")\n",
        "    if not text:\n",
        "        raise ValueError(\"Text cannot be empty.\")\n",
        "\n",
        "    shift = input(\"Enter the shift value (integer): \")\n",
        "    shift = int(shift)\n",
        "\n",
        "    encrypted_text = caesar_cipher(text, shift)\n",
        "    print(\"Encrypted text:\", encrypted_text)\n",
        "\n",
        "except ValueError as ve:\n",
        "    print(\"Error:\", ve)\n",
        "except Exception as e:\n",
        "    print(\"An unexpected error occurred:\", e)\n"
      ]
    }
  ]
}